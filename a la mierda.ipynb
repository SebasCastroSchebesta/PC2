
"""
Created on Fri May  6 19:14:31 2022

@author: DELL
"""

import pandas as pd
import matplotlib.pyplot as plt
import warnings
import seaborn as sns

data1 = pd.read_excel('peru_gdp_1922_2021.csv')
